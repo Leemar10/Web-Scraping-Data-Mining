{
 "cells": [
  {
   "cell_type": "code",
   "execution_count": 1,
   "id": "296de684-5598-4dd0-821c-b9349097c062",
   "metadata": {},
   "outputs": [],
   "source": [
    "import selenium\n",
    "from selenium import webdriver\n",
    "from selenium.webdriver.chrome.service import Service\n",
    "from selenium.webdriver.common.by import By\n",
    "from selenium.webdriver.support.ui import WebDriverWait\n",
    "from selenium.webdriver.support import expected_conditions as EC\n",
    "import time"
   ]
  },
  {
   "cell_type": "code",
   "execution_count": 2,
   "id": "2e78b19f-f97c-48e9-b1d9-bb708aeadb87",
   "metadata": {},
   "outputs": [],
   "source": [
    "service = Service(executable_path=\"chromedriver.exe\")\n",
    "driver = webdriver.Chrome(service=service)"
   ]
  },
  {
   "cell_type": "code",
   "execution_count": 3,
   "id": "9f7cef55-fe15-40a2-8069-30c528ea4800",
   "metadata": {},
   "outputs": [
    {
     "data": {
      "text/plain": [
       "<selenium.webdriver.remote.webelement.WebElement (session=\"6db4a6d45ced5981158b9659c4eddffd\", element=\"f.E4C9319E4A3E77E3530246BCF35B3DA0.d.772C0766CD1596C2D09562E782C9FF32.e.13\")>"
      ]
     },
     "execution_count": 3,
     "metadata": {},
     "output_type": "execute_result"
    }
   ],
   "source": [
    "url = \"https://steamcharts.com/top\"\n",
    "\n",
    "\n",
    "driver.get(url)\n",
    "WebDriverWait(driver, 20).until(\n",
    "    EC.visibility_of_element_located((By.ID, 'top-games'))\n",
    ")"
   ]
  },
  {
   "cell_type": "code",
   "execution_count": 4,
   "id": "f1ca0f59-4b0c-42da-9ce8-519589405620",
   "metadata": {},
   "outputs": [
    {
     "name": "stdout",
     "output_type": "stream",
     "text": [
      "['', 'Name', 'Current Players', 'Last 30 Days', 'Peak Players', 'Hours Played']\n"
     ]
    }
   ],
   "source": [
    "table = driver.find_element(By.ID, 'top-games')\n",
    "thead = table.find_element(By.TAG_NAME, 'thead')\n",
    "header_row = thead.find_element(By.TAG_NAME, 'tr')\n",
    "headers = [th.text for th in header_row.find_elements(By.TAG_NAME, 'th')]\n",
    "\n",
    "print(headers)"
   ]
  },
  {
   "cell_type": "code",
   "execution_count": 5,
   "id": "f1e3d51b-46b9-4235-8289-953dccff3c73",
   "metadata": {},
   "outputs": [],
   "source": [
    "headers = [headers[i] for i in [0,1, 2, 4, 5]]"
   ]
  },
  {
   "cell_type": "code",
   "execution_count": 6,
   "id": "c48718e6-3397-4882-878f-32d9aada37c5",
   "metadata": {},
   "outputs": [
    {
     "data": {
      "text/plain": [
       "['', 'Name', 'Current Players', 'Peak Players', 'Hours Played']"
      ]
     },
     "execution_count": 6,
     "metadata": {},
     "output_type": "execute_result"
    }
   ],
   "source": [
    "headers"
   ]
  },
  {
   "cell_type": "code",
   "execution_count": 7,
   "id": "d63cb515-e2e9-411a-a2f2-1445c91a1e40",
   "metadata": {},
   "outputs": [],
   "source": [
    "import pandas as pd"
   ]
  },
  {
   "cell_type": "code",
   "execution_count": 8,
   "id": "681eb14d-a8fc-491d-a19b-a74e0dad9303",
   "metadata": {},
   "outputs": [
    {
     "data": {
      "text/html": [
       "<div>\n",
       "<style scoped>\n",
       "    .dataframe tbody tr th:only-of-type {\n",
       "        vertical-align: middle;\n",
       "    }\n",
       "\n",
       "    .dataframe tbody tr th {\n",
       "        vertical-align: top;\n",
       "    }\n",
       "\n",
       "    .dataframe thead th {\n",
       "        text-align: right;\n",
       "    }\n",
       "</style>\n",
       "<table border=\"1\" class=\"dataframe\">\n",
       "  <thead>\n",
       "    <tr style=\"text-align: right;\">\n",
       "      <th></th>\n",
       "      <th></th>\n",
       "      <th>Name</th>\n",
       "      <th>Current Players</th>\n",
       "      <th>Peak Players</th>\n",
       "      <th>Hours Played</th>\n",
       "    </tr>\n",
       "  </thead>\n",
       "  <tbody>\n",
       "  </tbody>\n",
       "</table>\n",
       "</div>"
      ],
      "text/plain": [
       "Empty DataFrame\n",
       "Columns: [, Name, Current Players, Peak Players, Hours Played]\n",
       "Index: []"
      ]
     },
     "execution_count": 8,
     "metadata": {},
     "output_type": "execute_result"
    }
   ],
   "source": [
    "df = pd.DataFrame(columns=headers)\n",
    "df.head()"
   ]
  },
  {
   "cell_type": "code",
   "execution_count": 9,
   "id": "c1c64035-25e4-49dd-be10-4531c808418c",
   "metadata": {},
   "outputs": [],
   "source": [
    "body = table.find_element(By.TAG_NAME, 'tbody') "
   ]
  },
  {
   "cell_type": "code",
   "execution_count": 10,
   "id": "95f496c2-ff31-431e-9d69-4edeedb753ca",
   "metadata": {},
   "outputs": [],
   "source": [
    "urls = [url, \"https://steamcharts.com/top/p.2\", \"https://steamcharts.com/top/p.3\", \"https://steamcharts.com/top/p.4\"]"
   ]
  },
  {
   "cell_type": "code",
   "execution_count": 11,
   "id": "cdb8f5fe-3414-42b9-96a7-07470ce2cc2f",
   "metadata": {},
   "outputs": [
    {
     "name": "stdout",
     "output_type": "stream",
     "text": [
      "Page loaded: https://steamcharts.com/top\n",
      "Page loaded: https://steamcharts.com/top/p.2\n",
      "Page loaded: https://steamcharts.com/top/p.3\n",
      "Page loaded: https://steamcharts.com/top/p.4\n",
      "                      Name Current Players Peak Players Hours Played\n",
      "0  1.     Counter-Strike 2       1,402,112    1,811,827  771,277,492\n",
      "1  2.  PUBG: BATTLEGROUNDS         581,957      861,598  238,766,375\n",
      "2  3.               Dota 2         505,945      630,716  289,175,032\n",
      "3  4.         Apex Legends         155,879      196,880   76,442,086\n",
      "4  5.            Bongo Cat         148,366      168,205   64,735,313\n"
     ]
    }
   ],
   "source": [
    "for url in urls:\n",
    "    driver.get(url)\n",
    "    WebDriverWait(driver, 20).until(\n",
    "        EC.visibility_of_element_located((By.ID, 'top-games'))\n",
    "    )\n",
    "    print(f\"Page loaded: {url}\")\n",
    "\n",
    "    table = driver.find_element(By.ID, 'top-games')\n",
    "    tbody = table.find_element(By.TAG_NAME, 'tbody')\n",
    "    rows = tbody.find_elements(By.TAG_NAME, 'tr')\n",
    "\n",
    "    for row in rows:\n",
    "        columns = row.find_elements(By.TAG_NAME, 'td')\n",
    "\n",
    "        if len(columns) >= 6:\n",
    "            row_data = [\n",
    "                columns[0].text,  \n",
    "                columns[1].text,  \n",
    "                columns[2].text,  \n",
    "                columns[4].text,  \n",
    "                columns[5].text   \n",
    "            ]\n",
    "            df.loc[len(df)] = row_data\n",
    "\n",
    "\n",
    "print(df.head())"
   ]
  },
  {
   "cell_type": "code",
   "execution_count": 12,
   "id": "fc1938ad-0601-4e67-bc17-e05abf3c6b66",
   "metadata": {},
   "outputs": [
    {
     "data": {
      "text/html": [
       "<div>\n",
       "<style scoped>\n",
       "    .dataframe tbody tr th:only-of-type {\n",
       "        vertical-align: middle;\n",
       "    }\n",
       "\n",
       "    .dataframe tbody tr th {\n",
       "        vertical-align: top;\n",
       "    }\n",
       "\n",
       "    .dataframe thead th {\n",
       "        text-align: right;\n",
       "    }\n",
       "</style>\n",
       "<table border=\"1\" class=\"dataframe\">\n",
       "  <thead>\n",
       "    <tr style=\"text-align: right;\">\n",
       "      <th></th>\n",
       "      <th></th>\n",
       "      <th>Name</th>\n",
       "      <th>Current Players</th>\n",
       "      <th>Peak Players</th>\n",
       "      <th>Hours Played</th>\n",
       "    </tr>\n",
       "  </thead>\n",
       "  <tbody>\n",
       "    <tr>\n",
       "      <th>0</th>\n",
       "      <td>1.</td>\n",
       "      <td>Counter-Strike 2</td>\n",
       "      <td>1,402,112</td>\n",
       "      <td>1,811,827</td>\n",
       "      <td>771,277,492</td>\n",
       "    </tr>\n",
       "    <tr>\n",
       "      <th>1</th>\n",
       "      <td>2.</td>\n",
       "      <td>PUBG: BATTLEGROUNDS</td>\n",
       "      <td>581,957</td>\n",
       "      <td>861,598</td>\n",
       "      <td>238,766,375</td>\n",
       "    </tr>\n",
       "    <tr>\n",
       "      <th>2</th>\n",
       "      <td>3.</td>\n",
       "      <td>Dota 2</td>\n",
       "      <td>505,945</td>\n",
       "      <td>630,716</td>\n",
       "      <td>289,175,032</td>\n",
       "    </tr>\n",
       "    <tr>\n",
       "      <th>3</th>\n",
       "      <td>4.</td>\n",
       "      <td>Apex Legends</td>\n",
       "      <td>155,879</td>\n",
       "      <td>196,880</td>\n",
       "      <td>76,442,086</td>\n",
       "    </tr>\n",
       "    <tr>\n",
       "      <th>4</th>\n",
       "      <td>5.</td>\n",
       "      <td>Bongo Cat</td>\n",
       "      <td>148,366</td>\n",
       "      <td>168,205</td>\n",
       "      <td>64,735,313</td>\n",
       "    </tr>\n",
       "    <tr>\n",
       "      <th>5</th>\n",
       "      <td>6.</td>\n",
       "      <td>Rust</td>\n",
       "      <td>120,700</td>\n",
       "      <td>187,702</td>\n",
       "      <td>74,156,920</td>\n",
       "    </tr>\n",
       "    <tr>\n",
       "      <th>6</th>\n",
       "      <td>7.</td>\n",
       "      <td>Monster Hunter Wilds</td>\n",
       "      <td>112,055</td>\n",
       "      <td>548,047</td>\n",
       "      <td>90,113,170</td>\n",
       "    </tr>\n",
       "    <tr>\n",
       "      <th>7</th>\n",
       "      <td>8.</td>\n",
       "      <td>Wallpaper Engine</td>\n",
       "      <td>111,692</td>\n",
       "      <td>138,046</td>\n",
       "      <td>57,360,818</td>\n",
       "    </tr>\n",
       "    <tr>\n",
       "      <th>8</th>\n",
       "      <td>9.</td>\n",
       "      <td>NARAKA: BLADEPOINT</td>\n",
       "      <td>103,853</td>\n",
       "      <td>205,593</td>\n",
       "      <td>41,725,396</td>\n",
       "    </tr>\n",
       "    <tr>\n",
       "      <th>9</th>\n",
       "      <td>10.</td>\n",
       "      <td>Delta Force</td>\n",
       "      <td>98,928</td>\n",
       "      <td>122,893</td>\n",
       "      <td>38,651,741</td>\n",
       "    </tr>\n",
       "    <tr>\n",
       "      <th>10</th>\n",
       "      <td>11.</td>\n",
       "      <td>Baldur's Gate 3</td>\n",
       "      <td>90,047</td>\n",
       "      <td>168,862</td>\n",
       "      <td>47,918,147</td>\n",
       "    </tr>\n",
       "    <tr>\n",
       "      <th>11</th>\n",
       "      <td>12.</td>\n",
       "      <td>Marvel Rivals</td>\n",
       "      <td>86,522</td>\n",
       "      <td>315,153</td>\n",
       "      <td>99,170,619</td>\n",
       "    </tr>\n",
       "    <tr>\n",
       "      <th>12</th>\n",
       "      <td>13.</td>\n",
       "      <td>Banana</td>\n",
       "      <td>85,808</td>\n",
       "      <td>123,120</td>\n",
       "      <td>71,481,110</td>\n",
       "    </tr>\n",
       "    <tr>\n",
       "      <th>13</th>\n",
       "      <td>14.</td>\n",
       "      <td>Schedule I</td>\n",
       "      <td>82,813</td>\n",
       "      <td>455,652</td>\n",
       "      <td>142,015,216</td>\n",
       "    </tr>\n",
       "    <tr>\n",
       "      <th>14</th>\n",
       "      <td>15.</td>\n",
       "      <td>Last Epoch</td>\n",
       "      <td>80,313</td>\n",
       "      <td>150,214</td>\n",
       "      <td>20,753,352</td>\n",
       "    </tr>\n",
       "    <tr>\n",
       "      <th>15</th>\n",
       "      <td>16.</td>\n",
       "      <td>Clair Obscur: Expedition 33</td>\n",
       "      <td>78,724</td>\n",
       "      <td>87,908</td>\n",
       "      <td>1,892,480</td>\n",
       "    </tr>\n",
       "    <tr>\n",
       "      <th>16</th>\n",
       "      <td>17.</td>\n",
       "      <td>Grand Theft Auto V Legacy</td>\n",
       "      <td>75,955</td>\n",
       "      <td>104,746</td>\n",
       "      <td>43,179,155</td>\n",
       "    </tr>\n",
       "    <tr>\n",
       "      <th>17</th>\n",
       "      <td>18.</td>\n",
       "      <td>Stardew Valley</td>\n",
       "      <td>75,494</td>\n",
       "      <td>124,979</td>\n",
       "      <td>44,422,894</td>\n",
       "    </tr>\n",
       "    <tr>\n",
       "      <th>18</th>\n",
       "      <td>19.</td>\n",
       "      <td>War Thunder</td>\n",
       "      <td>75,338</td>\n",
       "      <td>97,913</td>\n",
       "      <td>41,554,639</td>\n",
       "    </tr>\n",
       "    <tr>\n",
       "      <th>19</th>\n",
       "      <td>20.</td>\n",
       "      <td>Path of Exile 2</td>\n",
       "      <td>71,375</td>\n",
       "      <td>245,870</td>\n",
       "      <td>63,316,403</td>\n",
       "    </tr>\n",
       "    <tr>\n",
       "      <th>20</th>\n",
       "      <td>21.</td>\n",
       "      <td>Spacewar</td>\n",
       "      <td>65,635</td>\n",
       "      <td>138,329</td>\n",
       "      <td>46,431,507</td>\n",
       "    </tr>\n",
       "    <tr>\n",
       "      <th>21</th>\n",
       "      <td>22.</td>\n",
       "      <td>R.E.P.O.</td>\n",
       "      <td>63,450</td>\n",
       "      <td>245,015</td>\n",
       "      <td>84,308,460</td>\n",
       "    </tr>\n",
       "    <tr>\n",
       "      <th>22</th>\n",
       "      <td>23.</td>\n",
       "      <td>EA SPORTS FC 25</td>\n",
       "      <td>60,471</td>\n",
       "      <td>84,746</td>\n",
       "      <td>33,943,702</td>\n",
       "    </tr>\n",
       "    <tr>\n",
       "      <th>23</th>\n",
       "      <td>24.</td>\n",
       "      <td>Grand Theft Auto V Enhanced</td>\n",
       "      <td>58,621</td>\n",
       "      <td>116,913</td>\n",
       "      <td>36,352,744</td>\n",
       "    </tr>\n",
       "    <tr>\n",
       "      <th>24</th>\n",
       "      <td>25.</td>\n",
       "      <td>Football Manager 2024</td>\n",
       "      <td>57,133</td>\n",
       "      <td>68,246</td>\n",
       "      <td>31,528,267</td>\n",
       "    </tr>\n",
       "  </tbody>\n",
       "</table>\n",
       "</div>"
      ],
      "text/plain": [
       "                                Name Current Players Peak Players Hours Played\n",
       "0    1.             Counter-Strike 2       1,402,112    1,811,827  771,277,492\n",
       "1    2.          PUBG: BATTLEGROUNDS         581,957      861,598  238,766,375\n",
       "2    3.                       Dota 2         505,945      630,716  289,175,032\n",
       "3    4.                 Apex Legends         155,879      196,880   76,442,086\n",
       "4    5.                    Bongo Cat         148,366      168,205   64,735,313\n",
       "5    6.                         Rust         120,700      187,702   74,156,920\n",
       "6    7.         Monster Hunter Wilds         112,055      548,047   90,113,170\n",
       "7    8.             Wallpaper Engine         111,692      138,046   57,360,818\n",
       "8    9.           NARAKA: BLADEPOINT         103,853      205,593   41,725,396\n",
       "9   10.                  Delta Force          98,928      122,893   38,651,741\n",
       "10  11.              Baldur's Gate 3          90,047      168,862   47,918,147\n",
       "11  12.                Marvel Rivals          86,522      315,153   99,170,619\n",
       "12  13.                       Banana          85,808      123,120   71,481,110\n",
       "13  14.                   Schedule I          82,813      455,652  142,015,216\n",
       "14  15.                   Last Epoch          80,313      150,214   20,753,352\n",
       "15  16.  Clair Obscur: Expedition 33          78,724       87,908    1,892,480\n",
       "16  17.    Grand Theft Auto V Legacy          75,955      104,746   43,179,155\n",
       "17  18.               Stardew Valley          75,494      124,979   44,422,894\n",
       "18  19.                  War Thunder          75,338       97,913   41,554,639\n",
       "19  20.              Path of Exile 2          71,375      245,870   63,316,403\n",
       "20  21.                     Spacewar          65,635      138,329   46,431,507\n",
       "21  22.                     R.E.P.O.          63,450      245,015   84,308,460\n",
       "22  23.              EA SPORTS FC 25          60,471       84,746   33,943,702\n",
       "23  24.  Grand Theft Auto V Enhanced          58,621      116,913   36,352,744\n",
       "24  25.        Football Manager 2024          57,133       68,246   31,528,267"
      ]
     },
     "execution_count": 12,
     "metadata": {},
     "output_type": "execute_result"
    }
   ],
   "source": [
    "df.head(25)"
   ]
  },
  {
   "cell_type": "code",
   "execution_count": 15,
   "id": "f4b05452-7802-44cb-b14c-077313bbc34f",
   "metadata": {},
   "outputs": [],
   "source": [
    "df.to_csv(r'C:\\Users\\PC\\OneDrive\\Desktop\\Work_docs\\Steam_top_100.csv', index=False)"
   ]
  },
  {
   "cell_type": "code",
   "execution_count": null,
   "id": "f2c89644-f04f-43e2-9ba6-5db9cd4eccee",
   "metadata": {},
   "outputs": [],
   "source": []
  }
 ],
 "metadata": {
  "kernelspec": {
   "display_name": "Python 3 (ipykernel)",
   "language": "python",
   "name": "python3"
  },
  "language_info": {
   "codemirror_mode": {
    "name": "ipython",
    "version": 3
   },
   "file_extension": ".py",
   "mimetype": "text/x-python",
   "name": "python",
   "nbconvert_exporter": "python",
   "pygments_lexer": "ipython3",
   "version": "3.12.8"
  }
 },
 "nbformat": 4,
 "nbformat_minor": 5
}
